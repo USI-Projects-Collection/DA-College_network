{
 "cells": [
  {
   "cell_type": "markdown",
   "metadata": {},
   "source": [
    "### Libraries"
   ]
  },
  {
   "cell_type": "code",
   "execution_count": 15,
   "metadata": {},
   "outputs": [],
   "source": [
    "import numpy as np\n",
    "import matplotlib.pyplot as plt\n",
    "import networkx as nx\n",
    "from collections import defaultdict\n",
    "import matplotlib.pyplot as plt\n",
    "from datetime import datetime\n",
    "import pandas as pd"
   ]
  },
  {
   "cell_type": "markdown",
   "metadata": {},
   "source": [
    "## Data import"
   ]
  },
  {
   "cell_type": "code",
   "execution_count": null,
   "metadata": {},
   "outputs": [],
   "source": [
    "edge_counts = defaultdict(int) \n",
    "timestamps = defaultdict(list)\n",
    "\n",
    "with open(\"13_collegemsg_network/CollegeMsg.txt\", \"r\") as f:\n",
    "    for line in f:\n",
    "        u, v, t = map(int, line.strip().split())\n",
    "        edge_counts[(u, v)] += 1\n",
    "    timestamps[(u, v)].append(datetime.fromtimestamp(t))\n",
    "\n",
    "# Create directed graph\n",
    "G = nx.DiGraph()\n",
    "for (u, v), count in edge_counts.items():\n",
    "    G.add_edge(u, v, weight=count)\n"
   ]
  },
  {
   "cell_type": "code",
   "execution_count": null,
   "metadata": {},
   "outputs": [],
   "source": []
  }
 ],
 "metadata": {
  "kernelspec": {
   "display_name": "data_anal",
   "language": "python",
   "name": "python3"
  },
  "language_info": {
   "codemirror_mode": {
    "name": "ipython",
    "version": 3
   },
   "file_extension": ".py",
   "mimetype": "text/x-python",
   "name": "python",
   "nbconvert_exporter": "python",
   "pygments_lexer": "ipython3",
   "version": "3.13.2"
  }
 },
 "nbformat": 4,
 "nbformat_minor": 2
}
